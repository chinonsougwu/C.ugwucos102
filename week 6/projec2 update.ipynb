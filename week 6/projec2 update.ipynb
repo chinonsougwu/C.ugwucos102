{
 "cells": [
  {
   "cell_type": "code",
   "execution_count": 44,
   "id": "e5dcb27b-1a22-4625-85b9-052f7a67714a",
   "metadata": {},
   "outputs": [],
   "source": [
    "import tkinter as tk\n",
    "\n",
    "def admit_candidate():\n",
    "    # ...\n",
    "\n",
    "     admitted = []\n",
    "     not_admitted = []\n",
    "\n",
    "# Initialize the GUI\n",
    "root = tk.Tk()\n",
    "root.title(\"Admit Candidate\")\n",
    "\n",
    "# Create input fields using a grid layout\n",
    "name_label = tk.Label(root, text=\"Name:\", font=(\"Arial\", 14, \"bold\"))\n",
    "name_label.grid(row=0, column=0, padx=10, pady=10)\n",
    "name_entry = tk.Entry(root, font=(\"Arial\", 14), width=30)\n",
    "name_entry.grid(row=0, column=1, padx=10, pady=10)\n",
    "\n",
    "jamb_score_label = tk.Label(root, text=\"JAMB Score:\", font=(\"Arial\", 14, \"bold\"))\n",
    "jamb_score_label.grid(row=1, column=0, padx=10, pady=10)\n",
    "jamb_score_entry = tk.Entry(root, font=(\"Arial\", 14), width=10)\n",
    "jamb_score_entry.grid(row=1, column=1, padx=10, pady=10)\n",
    "\n",
    "credit_label = tk.Label(root, text=\"Credits:\", font=(\"Arial\", 14, \"bold\"))\n",
    "credit_label.grid(row=2, column=0, padx=10, pady=10)\n",
    "credit_entry_list = []\n",
    "for i in range(5):\n",
    "    credit_entry = tk.Entry(root, font=(\"Arial\", 14), width=10)\n",
    "    credit_entry.grid(row=2, column=i+1, padx=10, pady=10)\n",
    "    credit_entry_list.append(credit_entry)\n",
    "\n",
    "interview_score_label = tk.Label(root, text=\"Interview Score:\", font=(\"Arial\", 14, \"bold\"))\n",
    "interview_score_label.grid(row=3, column=0, padx=10, pady=10)\n",
    "interview_score_entry = tk.Entry(root, font=(\"Arial\", 14), width=10)\n",
    "interview_score_entry.grid(row=3, column=1, padx=10, pady=10)\n",
    "\n",
    "# Create a button to admit the candidate\n",
    "admit_button = tk.Button(root, text=\"Admit Candidate\", font=(\"Arial\", 14), command=admit_candidate)\n",
    "admit_button.grid(row=4, column=0, columnspan=2, padx=10, pady=20)\n",
    "\n",
    "# Create a label to display the result\n",
    "result_label = tk.Label(root, text=\"\", font=(\"Arial\", 14, \"bold\"))\n",
    "result_label.grid(row=5, column=0, columnspan=2, padx=10, pady=10)\n",
    "\n",
    "root.mainloop()"
   ]
   
  }
 ],
 "metadata": {
  "kernelspec": {
   "display_name": "Python 3 (ipykernel)",
   "language": "python",
   "name": "python3"
  },
  "language_info": {
   "codemirror_mode": {
    "name": "ipython",
    "version": 3
   },
   "file_extension": ".py",
   "mimetype": "text/x-python",
   "name": "python",
   "nbconvert_exporter": "python",
   "pygments_lexer": "ipython3",
   "version": "3.11.7"
  }
 },
 "nbformat": 4,
 "nbformat_minor": 5
}
