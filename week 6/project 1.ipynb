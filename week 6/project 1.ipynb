{
 "cells": [
  {
   "cell_type": "code",
   "execution_count": 3,
   "id": "626d5a04-7fd0-4131-8cdf-83af002a6c3a",
   "metadata": {},
   "outputs": [],
   "source": [
    "import tkinter as tk\n",
    "\n",
    "def calculate_cost():\n",
    "    location = location_var.get()\n",
    "    weight = int(weight_var.get())\n",
    "\n",
    "    if location == \"Ibeju-Lekki\":\n",
    "        if weight >= 10:\n",
    "            cost = 5000\n",
    "        else:\n",
    "            cost = 3500\n",
    "    elif location == \"Epe\":\n",
    "        cost = 10000\n",
    "    else:\n",
    "        cost = 0\n",
    "\n",
    "    cost_label.config(text=f\"Cost: {cost}\")\n",
    "\n",
    "root = tk.Tk()\n",
    "\n",
    "location_label = tk.Label(root, text=\"Location:\")\n",
    "location_label.pack()\n",
    "\n",
    "location_var = tk.StringVar(root)\n",
    "location_var.set(\"Select Location\")\n",
    "location_options = [\"Ibeju-Lekki\", \"Epe\"]\n",
    "location_option_menu = tk.OptionMenu(root, location_var, *location_options)\n",
    "location_option_menu.pack()\n",
    "\n",
    "weight_label = tk.Label(root, text=\"Package Weight (kg):\")\n",
    "weight_label.pack()\n",
    "\n",
    "weight_var = tk.StringVar(root)\n",
    "weight_var.set(\"0\")\n",
    "weight_entry = tk.Entry(root, textvariable=weight_var)\n",
    "weight_entry.pack()\n",
    "\n",
    "calculate_button = tk.Button(root, text=\"Calculate Cost\", command=calculate_cost)\n",
    "calculate_button.pack()\n",
    "\n",
    "cost_label = tk.Label(root, text=\"Cost:\")\n",
    "cost_label.pack()\n",
    "\n",
    "root.mainloop()"
   ]
  }
 ],
 "metadata": {
  "kernelspec": {
   "display_name": "Python 3 (ipykernel)",
   "language": "python",
   "name": "python3"
  },
  "language_info": {
   "codemirror_mode": {
    "name": "ipython",
    "version": 3
   },
   "file_extension": ".py",
   "mimetype": "text/x-python",
   "name": "python",
   "nbconvert_exporter": "python",
   "pygments_lexer": "ipython3",
   "version": "3.11.7"
  }
 },
 "nbformat": 4,
 "nbformat_minor": 5
}
