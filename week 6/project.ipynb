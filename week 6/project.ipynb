import tkinter as tk
from PIL import Image, ImageTk

root = tk.Tk()
root.title("PAN ATLANTIC UNIVERSITY CAFETERIA")
root.geometry("700x450")

# Open the image file using Pillow
image = Image.open(r"C:\Users\ejola_bwvsera\OneDrive\Desktop\pau.png")
photo = ImageTk.PhotoImage(image)

# Create a label with the photo image and add it to the window
label = tk.Label(root, image=photo)
label.pack()

root.mainloop()
