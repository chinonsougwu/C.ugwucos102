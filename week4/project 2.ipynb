{
 "cells": [
  {
   "cell_type": "code",
   "execution_count": 23,
   "id": "ac780189-b477-4c5d-8a13-7b0145dbda56",
   "metadata": {},
   "outputs": [
    {
     "name": "stdout",
     "output_type": "stream",
     "text": [
      "Welcome to Izifin technology\n"
     ]
    },
    {
     "name": "stdin",
     "output_type": "stream",
     "text": [
      "hello dear, Whats your name:  hunda\n",
      "How many years of experience do you have?: 556\n",
      "How old are you?: 4\n"
     ]
    },
    {
     "name": "stdout",
     "output_type": "stream",
     "text": [
      "Your annual tax Revenue(ATR) is:#550,000\n"
     ]
    }
   ],
   "source": [
    "# A program developed for Izifin Technology\n",
    "print(\"Welcome to Izifin technology\")\n",
    "\n",
    "staff = (input(\"hello dear, Whats your name: \"))\n",
    "\n",
    "num =  float (input(\"How many years of experience do you have?:\"))\n",
    "age =  float (input(\"How old are you?:\"))\n",
    "\n",
    "if (num >25) & (age >= 55):\n",
    "    print(\"Your annual tax Revenue(ATR) is:#5,600,000\")\n",
    "elif (num >20) & (age >= 45):\n",
    "    print(\"Your annual tax Revenue(ATR) is:#4,480,000\")\n",
    "elif(num > 10) & (age>=35):\n",
    "    print(\"Your annual tax Revenue(ATR) is:#1,500,000\")\n",
    "else:\n",
    "    print(\"Your annual tax Revenue(ATR) is:#550,000\")\n",
    "    \n",
    "\n",
    "\n",
    "\n",
    "\n",
    "\n",
    "\n",
    "\n",
    "\n",
    "\n",
    "\n",
    "\n",
    "\n",
    "\n",
    "\n",
    "\n"
   ]
  },
  {
   "cell_type": "code",
   "execution_count": null,
   "id": "26e15624-ee4a-4f26-84f2-fc94f0d01627",
   "metadata": {},
   "outputs": [],
   "source": []
  }
 ],
 "metadata": {
  "kernelspec": {
   "display_name": "Python 3 (ipykernel)",
   "language": "python",
   "name": "python3"
  },
  "language_info": {
   "codemirror_mode": {
    "name": "ipython",
    "version": 3
   },
   "file_extension": ".py",
   "mimetype": "text/x-python",
   "name": "python",
   "nbconvert_exporter": "python",
   "pygments_lexer": "ipython3",
   "version": "3.11.7"
  }
 },
 "nbformat": 4,
 "nbformat_minor": 5
}
