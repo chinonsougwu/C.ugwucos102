{
 "cells": [
  {
   "cell_type": "code",
   "execution_count": 1,
   "id": "21729c3e-9cd4-4d75-bfc0-72731a3566c8",
   "metadata": {},
   "outputs": [
    {
     "name": "stdout",
     "output_type": "stream",
     "text": [
      "Welcome to the coupe de escriva 2023: football picks \n",
      "\n"
     ]
    }
   ],
   "source": [
    "#COUPE DE ESCRIVA 2023: FOOTBALL PICKS\n",
    "\n",
    "print(\"Welcome to the coupe de escriva 2023: football picks \\n\")\n",
    "\n",
    "captain={'Madiba:':'chubby Obiora-Okafor', 'Blue-jays:':'christopher uweh',\n",
    "         'cirok: ':'Alexander','TSG Walkers: ':'ikechukwu'}"
   ]
  },
  {
   "cell_type": "code",
   "execution_count": 2,
   "id": "d2129980-b5af-401a-84ad-ff12a296f428",
   "metadata": {},
   "outputs": [
    {
     "name": "stdout",
     "output_type": "stream",
     "text": [
      "Madiba: chubby Obiora-Okafor\n",
      "Blue-jays: christopher uweh\n",
      "cirok:  Alexander\n",
      "TSG Walkers:  ikechukwu\n",
      "\n",
      "\n",
      "madiba: chubby Obiora-okafor\n",
      "Blue-Jays: Oladimeji Abaniwondea/Jeffery Awagu\n",
      "Cirok: Timileyin Pearse/Izuako Jeremy\n",
      "TSG Walkers: Ayomide ojituku\n"
     ]
    }
   ],
   "source": [
    "goalkeepers = {'madiba:':'chubby Obiora-okafor',\n",
    "               'Blue-Jays:':'Oladimeji Abaniwondea/Jeffery Awagu',\n",
    "               'Cirok:':'Timileyin Pearse/Izuako Jeremy',\n",
    "               'TSG Walkers:':'Ayomide ojituku'}\n",
    "\n",
    "for pick in captain:\n",
    "    print(pick,captain[pick])\n",
    "\n",
    "print(\"\\n\")\n",
    "\n",
    "for pick in goalkeepers:\n",
    "    print(pick,goalkeepers[pick])"
   ]
  },
  {
   "cell_type": "code",
   "execution_count": null,
   "id": "a0b17248-ef31-4d7f-8e0a-bf2ccb7d68f5",
   "metadata": {},
   "outputs": [],
   "source": []
  }
 ],
 "metadata": {
  "kernelspec": {
   "display_name": "Python 3 (ipykernel)",
   "language": "python",
   "name": "python3"
  },
  "language_info": {
   "codemirror_mode": {
    "name": "ipython",
    "version": 3
   },
   "file_extension": ".py",
   "mimetype": "text/x-python",
   "name": "python",
   "nbconvert_exporter": "python",
   "pygments_lexer": "ipython3",
   "version": "3.11.7"
  }
 },
 "nbformat": 4,
 "nbformat_minor": 5
}
