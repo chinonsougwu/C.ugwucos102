{
 "cells": [
  {
   "cell_type": "code",
   "execution_count": null,
   "id": "22e3e4bd-794f-49da-847d-d9b4de7f556c",
   "metadata": {},
   "outputs": [],
   "source": [
    "#Program to check if a number is positive, negative or 0\n",
    "\n",
    "num = float (input(\"Enter a number:\"))\n",
    "if num >  0:\n",
    "    print(\"positive number\")\n",
    "elif num ==0:\n",
    "    print(\"zero\")\n",
    "else:\n",
    "    print(Negative number\")"
   ]
  }
 ],
 "metadata": {
  "kernelspec": {
   "display_name": "Python 3 (ipykernel)",
   "language": "python",
   "name": "python3"
  },
  "language_info": {
   "codemirror_mode": {
    "name": "ipython",
    "version": 3
   },
   "file_extension": ".py",
   "mimetype": "text/x-python",
   "name": "python",
   "nbconvert_exporter": "python",
   "pygments_lexer": "ipython3",
   "version": "3.11.7"
  }
 },
 "nbformat": 4,
 "nbformat_minor": 5
}
