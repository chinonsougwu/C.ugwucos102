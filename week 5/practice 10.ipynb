{
 "cells": [
  {
   "cell_type": "code",
   "execution_count": null,
   "id": "1e0db20b-5eed-46d3-a5dc-2ba3203ce112",
   "metadata": {},
   "outputs": [],
   "source": [
    "import tkinter as tk\n",
    "\n",
    "# Handling button click event\n",
    "def button_click():\n",
    "    #print(\"button clicked\")\n",
    "\n",
    "    # show an information message box\n",
    "    msgbox.showinfo(\"info\",\"Welcome to COS 102 GUI App!\\n\")\n",
    "\n",
    "    # Ask for user confirmation\n",
    "    result = msgbox.askyesno(\"confirmation\",\"Do you want to continue?\")\n",
    "\n",
    "#create the main window\n",
    "root = tk.Tk()\n",
    "root.title(\"Home page\")\n",
    "root.geometry(\"500x300\")\n",
    "\n",
    "#add a label widget\n",
    "label = tk.Label(root, text=\"HellO WELCOME TO MY APP\\n\")\n",
    "label.pack()\n",
    "\n",
    "#add a buttton widget\n",
    "button = tk.Button(root, text=\"CONTINUE HERE!\", command=button_click)\n",
    "button.pack()\n",
    "\n",
    "#styling the button widget\n",
    "button.config(fg=\"white\", bg=\"green\")\n",
    "\n",
    "#start the event loop\n",
    "root.mainloop()"
   ]
  },
  {
   "cell_type": "code",
   "execution_count": null,
   "id": "75f2ceba-fa9f-4c50-8a6c-24167400f276",
   "metadata": {},
   "outputs": [],
   "source": []
  }
 ],
 "metadata": {
  "kernelspec": {
   "display_name": "Python 3 (ipykernel)",
   "language": "python",
   "name": "python3"
  },
  "language_info": {
   "codemirror_mode": {
    "name": "ipython",
    "version": 3
   },
   "file_extension": ".py",
   "mimetype": "text/x-python",
   "name": "python",
   "nbconvert_exporter": "python",
   "pygments_lexer": "ipython3",
   "version": "3.11.7"
  }
 },
 "nbformat": 4,
 "nbformat_minor": 5
}
