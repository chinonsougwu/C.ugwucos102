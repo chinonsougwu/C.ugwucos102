{
 "cells": [
  {
   "cell_type": "code",
   "execution_count": null,
   "id": "f9d75af4-d15e-4bea-99c3-f10659741849",
   "metadata": {},
   "outputs": [],
   "source": [
    "total = 50, #this is a global variable.\n",
    "def sum( arg1, arg2 ):\n",
    "    #Add both the parameters\n",
    "    total = arg1 + arg2;\n",
    "    print (\"inside the function local total :\", total)\n",
    "    return total;\n",
    "#now you can call sum functions\n",
    "sum(10, 20);\n",
    "print(\"outside the function global total: \",total) "
   ]
  }
 ],
 "metadata": {
  "kernelspec": {
   "display_name": "Python 3 (ipykernel)",
   "language": "python",
   "name": "python3"
  },
  "language_info": {
   "codemirror_mode": {
    "name": "ipython",
    "version": 3
   },
   "file_extension": ".py",
   "mimetype": "text/x-python",
   "name": "python",
   "nbconvert_exporter": "python",
   "pygments_lexer": "ipython3",
   "version": "3.11.7"
  }
 },
 "nbformat": 4,
 "nbformat_minor": 5
}
