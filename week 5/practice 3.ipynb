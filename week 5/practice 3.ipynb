{
 "cells": [
  {
   "cell_type": "code",
   "execution_count": 4,
   "id": "4765d949-e017-44f2-a541-9131ca6669ad",
   "metadata": {},
   "outputs": [
    {
     "name": "stdout",
     "output_type": "stream",
     "text": [
      "Values inside the function:  [1, 2, 3, 4]\n",
      "values outside the function:  [10, 20, 30]\n"
     ]
    }
   ],
   "source": [
    "def changeme( mylist ):\n",
    "    #this changes a passed list\n",
    "    mylist = [1,2,3,4];\n",
    "    print(\"Values inside the function: \", mylist)\n",
    "    return\n",
    "mylist = [10,20,30]\n",
    "changeme( mylist )\n",
    "print (\"values outside the function: \", mylist)\n"
   ]
  },
  {
   "cell_type": "code",
   "execution_count": null,
   "id": "16ab2978-97d0-44f1-9057-6818d9298558",
   "metadata": {},
   "outputs": [],
   "source": []
  }
 ],
 "metadata": {
  "kernelspec": {
   "display_name": "Python 3 (ipykernel)",
   "language": "python",
   "name": "python3"
  },
  "language_info": {
   "codemirror_mode": {
    "name": "ipython",
    "version": 3
   },
   "file_extension": ".py",
   "mimetype": "text/x-python",
   "name": "python",
   "nbconvert_exporter": "python",
   "pygments_lexer": "ipython3",
   "version": "3.11.7"
  }
 },
 "nbformat": 4,
 "nbformat_minor": 5
}
