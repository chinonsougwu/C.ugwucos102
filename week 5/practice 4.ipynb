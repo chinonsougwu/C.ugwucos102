{
 "cells": [
  {
   "cell_type": "code",
   "execution_count": 2,
   "id": "b6799b54-1608-46ea-bf75-dec2e966c717",
   "metadata": {},
   "outputs": [
    {
     "name": "stdout",
     "output_type": "stream",
     "text": [
      "my string\n"
     ]
    }
   ],
   "source": [
    "def printme ( str ):\n",
    "    #this prints a passed string\n",
    "    print (str);\n",
    "    return;\n",
    "printme(str = \"my string\");    "
   ]
  },
  {
   "cell_type": "code",
   "execution_count": null,
   "id": "995bc8b9-3dae-48a0-aa7f-3c19dde2979f",
   "metadata": {},
   "outputs": [],
   "source": []
  }
 ],
 "metadata": {
  "kernelspec": {
   "display_name": "Python 3 (ipykernel)",
   "language": "python",
   "name": "python3"
  },
  "language_info": {
   "codemirror_mode": {
    "name": "ipython",
    "version": 3
   },
   "file_extension": ".py",
   "mimetype": "text/x-python",
   "name": "python",
   "nbconvert_exporter": "python",
   "pygments_lexer": "ipython3",
   "version": "3.11.7"
  }
 },
 "nbformat": 4,
 "nbformat_minor": 5
}
