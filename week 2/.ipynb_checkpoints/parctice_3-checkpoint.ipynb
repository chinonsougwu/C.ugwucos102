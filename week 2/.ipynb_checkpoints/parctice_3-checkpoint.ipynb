{
 "cells": [
  {
   "cell_type": "code",
   "execution_count": 2,
   "id": "86c379b1-9a63-4608-bce9-cc72f24271f6",
   "metadata": {},
   "outputs": [
    {
     "name": "stdout",
     "output_type": "stream",
     "text": [
      "['Anaconda', 786, 2.23, 'jupyter', 70.2]\n",
      "Anaconda\n",
      "[786, 2.23]\n",
      "[2.23, 'jupyter', 70.2]\n",
      "[321, 'python', 321, 'python']\n",
      "['Anaconda', 786, 2.23, 'jupyter', 70.2, 321, 'python']\n"
     ]
    }
   ],
   "source": [
    "list = ['Anaconda', 786 , 2.23, 'jupyter', 70.2]\n",
    "shortlist = [321, 'python']\n",
    "\n",
    "print(list)            #prints complete list \n",
    "print(list[0])         #prints first element of the list\n",
    "print(list[1:3])       #print elements starting from 2nd till 3rd\n",
    "print(list[2:])        #prints elements starting from 3rd element\n",
    "print(shortlist*2)     #prints list two times\n",
    "print(list + shortlist) #prints cocantenated lists"
   ]
  },
  {
   "cell_type": "code",
   "execution_count": null,
   "id": "404d44f5-762a-49d1-b825-92596311a4c8",
   "metadata": {},
   "outputs": [],
   "source": []
  }
 ],
 "metadata": {
  "kernelspec": {
   "display_name": "Python 3 (ipykernel)",
   "language": "python",
   "name": "python3"
  },
  "language_info": {
   "codemirror_mode": {
    "name": "ipython",
    "version": 3
   },
   "file_extension": ".py",
   "mimetype": "text/x-python",
   "name": "python",
   "nbconvert_exporter": "python",
   "pygments_lexer": "ipython3",
   "version": "3.11.7"
  }
 },
 "nbformat": 4,
 "nbformat_minor": 5
}
