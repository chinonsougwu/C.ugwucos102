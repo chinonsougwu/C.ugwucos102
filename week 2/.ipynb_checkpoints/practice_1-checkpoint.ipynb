{
 "cells": [
  {
   "cell_type": "code",
   "execution_count": 1,
   "id": "1d3f849f-cbfa-4731-99a0-e55e7cdfe147",
   "metadata": {},
   "outputs": [
    {
     "name": "stdin",
     "output_type": "stream",
     "text": [
      "Enter your state of origin: james\n"
     ]
    },
    {
     "name": "stdout",
     "output_type": "stream",
     "text": [
      "your state of origin is:  james\n"
     ]
    }
   ],
   "source": [
    "str = input(\"Enter your state of origin:\")\n",
    "\n",
    "print(\"your state of origin is: \", str)"
   ]
  },
  {
   "cell_type": "code",
   "execution_count": 4,
   "id": "c73060e6-7609-495b-bd74-943d07cad6d9",
   "metadata": {},
   "outputs": [
    {
     "name": "stdout",
     "output_type": "stream",
     "text": [
      "your first character is: j\n",
      "the character starting from the 3rd and 5th are: mes\n",
      "the string starting from the 3rd character is:  mes\n",
      "state of origin two times jamesjames\n"
     ]
    }
   ],
   "source": [
    "print (\"your first character is:\", str[0])\n",
    "print (\"the character starting from the 3rd and 5th are:\",str[2:5])\n",
    "print (\"the string starting from the 3rd character is: \", str[2:])\n",
    "print (\"state of origin two times\", str*2)"
   ]
  },
  {
   "cell_type": "code",
   "execution_count": null,
   "id": "2707ca26-ed50-4e37-b9db-05d0a70ab76a",
   "metadata": {},
   "outputs": [],
   "source": []
  }
 ],
 "metadata": {
  "kernelspec": {
   "display_name": "Python 3 (ipykernel)",
   "language": "python",
   "name": "python3"
  },
  "language_info": {
   "codemirror_mode": {
    "name": "ipython",
    "version": 3
   },
   "file_extension": ".py",
   "mimetype": "text/x-python",
   "name": "python",
   "nbconvert_exporter": "python",
   "pygments_lexer": "ipython3",
   "version": "3.11.7"
  }
 },
 "nbformat": 4,
 "nbformat_minor": 5
}
