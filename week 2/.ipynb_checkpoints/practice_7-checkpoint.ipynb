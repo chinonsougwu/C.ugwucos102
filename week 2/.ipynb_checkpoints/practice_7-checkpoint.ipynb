{
 "cells": [
  {
   "cell_type": "code",
   "execution_count": 1,
   "id": "ccc1b947-59eb-420f-9bfe-a89ee70a8b01",
   "metadata": {},
   "outputs": [
    {
     "name": "stdout",
     "output_type": "stream",
     "text": [
      "grade = 97.0\n"
     ]
    }
   ],
   "source": [
    "#Convert to float\n",
    "\n",
    "grade = float(97)\n",
    "gpa =float (5)\n",
    "cgpa= float(\"4.7\")\n",
    "\n",
    "print(f\"grade = {grade}\")"
   ]
  },
  {
   "cell_type": "code",
   "execution_count": 2,
   "id": "0eff4f52-6790-430e-a530-d7d8fd867688",
   "metadata": {},
   "outputs": [
    {
     "name": "stdout",
     "output_type": "stream",
     "text": [
      "GPA = 5.0\n",
      "cgpa = 4.7\n"
     ]
    }
   ],
   "source": [
    "print(F\"GPA = {gpa}\")\n",
    "print(f\"cgpa = {cgpa}\")"
   ]
  },
  {
   "cell_type": "code",
   "execution_count": null,
   "id": "df142d72-f704-4596-bd1e-464f6012eed8",
   "metadata": {},
   "outputs": [],
   "source": []
  }
 ],
 "metadata": {
  "kernelspec": {
   "display_name": "Python 3 (ipykernel)",
   "language": "python",
   "name": "python3"
  },
  "language_info": {
   "codemirror_mode": {
    "name": "ipython",
    "version": 3
   },
   "file_extension": ".py",
   "mimetype": "text/x-python",
   "name": "python",
   "nbconvert_exporter": "python",
   "pygments_lexer": "ipython3",
   "version": "3.11.7"
  }
 },
 "nbformat": 4,
 "nbformat_minor": 5
}
