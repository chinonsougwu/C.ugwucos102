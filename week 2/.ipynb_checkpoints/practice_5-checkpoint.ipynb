{
 "cells": [
  {
   "cell_type": "code",
   "execution_count": null,
   "id": "dc13bccb-efd0-46a1-850a-a4f9b733b804",
   "metadata": {},
   "outputs": [],
   "source": [
    "#returns faslse as game_1 is not equal to game_2\n",
    "game_1 = 2\n",
    "game_2 = 4\n",
    "print(bool(game_1 == game_2))\n",
    "# or\n",
    "print(game_1 == game_2)\n",
    "\n",
    "# return false as val is none\n",
    "val = none\n",
    "print(bool(val))\n",
    "\n",
    "#return false as num is an empty sequence\n",
    "num = ()\n",
    "print(bool(num))\n",
    "\n",
    "# Return true as age is boolean\n",
    "age = true\n",
    "print(bool(age))"
   ]
  }
 ],
 "metadata": {
  "kernelspec": {
   "display_name": "Python 3 (ipykernel)",
   "language": "python",
   "name": "python3"
  },
  "language_info": {
   "codemirror_mode": {
    "name": "ipython",
    "version": 3
   },
   "file_extension": ".py",
   "mimetype": "text/x-python",
   "name": "python",
   "nbconvert_exporter": "python",
   "pygments_lexer": "ipython3",
   "version": "3.11.7"
  }
 },
 "nbformat": 4,
 "nbformat_minor": 5
}
