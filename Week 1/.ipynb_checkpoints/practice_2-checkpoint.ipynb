{
 "cells": [
  {
   "cell_type": "code",
   "execution_count": 1,
   "id": "01c5d69a-d5fb-443b-80d1-9be3b93c906f",
   "metadata": {},
   "outputs": [
    {
     "name": "stdout",
     "output_type": "stream",
     "text": [
      "hi my name is matthew. I am string\n",
      "<class 'str'>\n",
      "hi my name is precious. I am also a string\n",
      "<class 'str'>\n"
     ]
    }
   ],
   "source": [
    "#python program to print strings and type\n",
    "str1=\"hi my name is matthew. I am string\"\n",
    "str2=\"hi my name is precious. I am also a string\"\n",
    "\n",
    "#displaying atring str1 and its type\n",
    "print(str1)\n",
    "print(type(str1))\n",
    "\n",
    "#displaying string str2 and its type\n",
    "print(str2)\n",
    "print(type(str2))"
   ]
  },
  {
   "cell_type": "code",
   "execution_count": null,
   "id": "b800b59e-2cc0-491e-98eb-615a2033076c",
   "metadata": {},
   "outputs": [],
   "source": []
  }
 ],
 "metadata": {
  "kernelspec": {
   "display_name": "Python 3 (ipykernel)",
   "language": "python",
   "name": "python3"
  },
  "language_info": {
   "codemirror_mode": {
    "name": "ipython",
    "version": 3
   },
   "file_extension": ".py",
   "mimetype": "text/x-python",
   "name": "python",
   "nbconvert_exporter": "python",
   "pygments_lexer": "ipython3",
   "version": "3.11.7"
  }
 },
 "nbformat": 4,
 "nbformat_minor": 5
}
