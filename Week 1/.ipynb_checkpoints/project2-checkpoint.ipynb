{
 "cells": [
  {
   "cell_type": "code",
   "execution_count": 8,
   "id": "91482079-c51f-4b5e-a76d-f93040077a64",
   "metadata": {},
   "outputs": [
    {
     "name": "stdin",
     "output_type": "stream",
     "text": [
      "whats the principal 34\n",
      "what is the interest rate 5\n",
      "what is the time 3\n",
      "what is the number of interest applied 34\n"
     ]
    },
    {
     "name": "stdout",
     "output_type": "stream",
     "text": [
      "False\n"
     ]
    }
   ],
   "source": [
    "#how to calculate the compound intrest\n",
    "principal=input(\"whats the principal\")\n",
    "rate=input(\"what is the interest rate\")\n",
    "time=input(\"what is the time\")\n",
    "number=input(\"what is the number of interest applied\")\n",
    "p=float(principal)\n",
    "r=float(rate)\n",
    "t=float(time)\n",
    "n=float(number)\n",
    "amount=p*((1+(r/n))**(n*t))\n",
    "print(\"the compound interest is\"==amount)"
   ]
  },
  {
   "cell_type": "code",
   "execution_count": null,
   "id": "ddec23e1-075e-48cc-b6ea-c4c391a7bdd8",
   "metadata": {},
   "outputs": [],
   "source": []
  }
 ],
 "metadata": {
  "kernelspec": {
   "display_name": "Python 3 (ipykernel)",
   "language": "python",
   "name": "python3"
  },
  "language_info": {
   "codemirror_mode": {
    "name": "ipython",
    "version": 3
   },
   "file_extension": ".py",
   "mimetype": "text/x-python",
   "name": "python",
   "nbconvert_exporter": "python",
   "pygments_lexer": "ipython3",
   "version": "3.11.7"
  }
 },
 "nbformat": 4,
 "nbformat_minor": 5
}
