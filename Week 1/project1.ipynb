{
 "cells": [
  {
   "cell_type": "code",
   "execution_count": 7,
   "id": "36a38bb1-4ea4-47c0-b00b-23dc349cc5c8",
   "metadata": {},
   "outputs": [
    {
     "name": "stdin",
     "output_type": "stream",
     "text": [
      "what is the rate 6\n",
      "what is the time interval 6\n",
      "what is the principle 677\n"
     ]
    },
    {
     "name": "stdout",
     "output_type": "stream",
     "text": [
      "False\n"
     ]
    }
   ],
   "source": [
    "#program to solve simple intrest\n",
    "rate=input(\"what is the rate\")\n",
    "time=input(\"what is the time interval\")\n",
    "principal = input(\"what is the principle\")\n",
    "p=float(principal)\n",
    "r=float(rate)\n",
    "t=float(time)\n",
    "amount=p*(1+((r/100)*t))\n",
    "print(\"Simple intrest is\" == amount)"
   ]
  },
  {
   "cell_type": "code",
   "execution_count": null,
   "id": "fd6524f0-ef94-4234-b8b8-b75d720a606b",
   "metadata": {},
   "outputs": [],
   "source": []
  },
  {
   "cell_type": "code",
   "execution_count": null,
   "id": "e52e7599-0d9d-4cd7-87b9-b9c7fcbbf512",
   "metadata": {},
   "outputs": [],
   "source": []
  },
  {
   "cell_type": "code",
   "execution_count": null,
   "id": "68906f7d-85d0-434f-82c1-eda81df129fc",
   "metadata": {},
   "outputs": [],
   "source": []
  }
 ],
 "metadata": {
  "kernelspec": {
   "display_name": "Python 3 (ipykernel)",
   "language": "python",
   "name": "python3"
  },
  "language_info": {
   "codemirror_mode": {
    "name": "ipython",
    "version": 3
   },
   "file_extension": ".py",
   "mimetype": "text/x-python",
   "name": "python",
   "nbconvert_exporter": "python",
   "pygments_lexer": "ipython3",
   "version": "3.11.7"
  }
 },
 "nbformat": 4,
 "nbformat_minor": 5
}
