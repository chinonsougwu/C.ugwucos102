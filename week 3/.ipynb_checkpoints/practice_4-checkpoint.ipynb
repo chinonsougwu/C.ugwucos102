{
 "cells": [
  {
   "cell_type": "code",
   "execution_count": null,
   "id": "7bb4f9b9-dde7-4508-80e5-8a6a32383cda",
   "metadata": {},
   "outputs": [],
   "source": [
    "tuple = (\"ekiti\",750,'oshobo',250,\"Akure\",500)\n",
    "s_tuple = (\"Abeokuta\",300,\"ogbomoso\")\n",
    "\n",
    "#prints the complete tuple\n",
    "print (tuple)\n",
    "\n",
    "#print last elements of the tuple\n",
    "print (tuple[-1])\n",
    "\n",
    "#prints element of thr tuple starting from 2nd till 3rd\n",
    "print (tuple[2:4])\n",
    "\n",
    "#print elements of the tuple starting from the 3rd element\n",
    "print (tuple[3:])\n",
    "\n",
    "#prints the contents of the tuple twice\n",
    "print (s_tuple*3)\n",
    "\n",
    "#prints concatenated tuples\n",
    "print(tuple+s_tuple)\n",
    "       "
   ]
  }
 ],
 "metadata": {
  "kernelspec": {
   "display_name": "Python 3 (ipykernel)",
   "language": "python",
   "name": "python3"
  },
  "language_info": {
   "codemirror_mode": {
    "name": "ipython",
    "version": 3
   },
   "file_extension": ".py",
   "mimetype": "text/x-python",
   "name": "python",
   "nbconvert_exporter": "python",
   "pygments_lexer": "ipython3",
   "version": "3.11.7"
  }
 },
 "nbformat": 4,
 "nbformat_minor": 5
}
