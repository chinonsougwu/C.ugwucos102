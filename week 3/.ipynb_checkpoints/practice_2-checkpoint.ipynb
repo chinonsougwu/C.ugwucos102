{
 "cells": [
  {
   "cell_type": "code",
   "execution_count": 2,
   "id": "af6c4ee2-5c2a-4d83-b61b-6b6bb55237de",
   "metadata": {},
   "outputs": [
    {
     "name": "stdin",
     "output_type": "stream",
     "text": [
      "enter mass in kilograms:  1000\n"
     ]
    },
    {
     "name": "stdout",
     "output_type": "stream",
     "text": [
      "The energy equivalent to 1000.0kg of mass is 8.987551787368176e+19 joules.\n"
     ]
    }
   ],
   "source": [
    "#input from user\n",
    "m = float(input(\"enter mass in kilograms: \"))\n",
    "\n",
    "#constant value for the speed of light in m/s\n",
    "c=299792458\n",
    "\n",
    "#calculating energy using einstiens equation\n",
    "energy = m*c**2\n",
    "\n",
    "#displaying the result \n",
    "print(f\"The energy equivalent to {m}kg of mass is {energy} joules.\") "
   ]
  },
  {
   "cell_type": "code",
   "execution_count": null,
   "id": "02a2703b-04f1-4b90-8655-e9b7e85188e1",
   "metadata": {},
   "outputs": [],
   "source": []
  }
 ],
 "metadata": {
  "kernelspec": {
   "display_name": "Python 3 (ipykernel)",
   "language": "python",
   "name": "python3"
  },
  "language_info": {
   "codemirror_mode": {
    "name": "ipython",
    "version": 3
   },
   "file_extension": ".py",
   "mimetype": "text/x-python",
   "name": "python",
   "nbconvert_exporter": "python",
   "pygments_lexer": "ipython3",
   "version": "3.11.7"
  }
 },
 "nbformat": 4,
 "nbformat_minor": 5
}
