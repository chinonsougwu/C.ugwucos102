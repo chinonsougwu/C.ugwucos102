{
 "cells": [
  {
   "cell_type": "code",
   "execution_count": 5,
   "id": "e3e75a9a-cc26-43f9-8ee8-a07a9c87fdd0",
   "metadata": {},
   "outputs": [],
   "source": [
    "import tkinter as tk \n",
    "from tkinter import messagebox \n",
    "import random\n",
    "\n",
    "employees = ( )\n",
    "\n",
    "tasks =( )\n",
    "\n",
    "class employees:\n",
    "    def __init__(self,name):\n",
    "        self.name=name\n",
    "\n",
    "    def check_employee(self):\n",
    "        if self.name in employees:\n",
    "            pass\n",
    "\n",
    "    def take_attendance(self):\n",
    "        if self.name in employees:\n",
    "            pass\n",
    "\n",
    "    def assign_task(self):\n",
    "        if self.name in employees:\n",
    "            task = random.choice(tasks)\n",
    "            window= tk.Toplevel(root)\n",
    "            window.title(\"Employee Data\")\n",
    "            window.geometry(\"400x200\")\n",
    "\n",
    "            label_1 =tk.Label\n",
    "\n",
    "\n",
    "\n",
    "    \n",
    "    \n",
    "        \n",
    "    "
   ]
  },
  {
   "cell_type": "code",
   "execution_count": null,
   "id": "92b09aca-889c-4f20-bc53-a00cf8de96d6",
   "metadata": {},
   "outputs": [],
   "source": []
  }
 ],
 "metadata": {
  "kernelspec": {
   "display_name": "Python 3 (ipykernel)",
   "language": "python",
   "name": "python3"
  },
  "language_info": {
   "codemirror_mode": {
    "name": "ipython",
    "version": 3
   },
   "file_extension": ".py",
   "mimetype": "text/x-python",
   "name": "python",
   "nbconvert_exporter": "python",
   "pygments_lexer": "ipython3",
   "version": "3.11.7"
  }
 },
 "nbformat": 4,
 "nbformat_minor": 5
}
