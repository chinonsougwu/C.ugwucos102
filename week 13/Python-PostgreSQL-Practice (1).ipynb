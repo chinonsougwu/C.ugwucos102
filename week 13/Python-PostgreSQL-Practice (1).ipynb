{
 "cells": [
  {
   "cell_type": "markdown",
   "metadata": {},
   "source": [
    "# Python - PostgreSQL"
   ]
  },
  {
   "cell_type": "markdown",
   "metadata": {},
   "source": [
    "<ul><li>PostgreSQL can be integrated with Python using psycopg2 module.</li><li>psycopg2 is a PostgreSQL database adapter for the Python programming language.</li><li>psycopg2 was written with the aim of being very small and fast, and stable as a rock.</li><li> You do not need to install this module separately because it is shipped, by default, along with Python version 2.5.x onwards.</li></ul>"
   ]
  },
  {
   "cell_type": "markdown",
   "metadata": {},
   "source": [
    "# Python psycopg2 Module APIs\n",
    "\n",
    "If you do not have it installed on your machine then you can use the command to install it as follows:"
   ]
  },
  {
   "cell_type": "code",
   "execution_count": null,
   "metadata": {},
   "outputs": [],
   "source": [
    "pip install psycopg2"
   ]
  },
  {
   "cell_type": "markdown",
   "metadata": {},
   "source": [
    "If the above command causes an error then use the command:"
   ]
  },
  {
   "cell_type": "code",
   "execution_count": null,
   "metadata": {},
   "outputs": [],
   "source": [
    "pip install psycopg2-binary"
   ]
  },
  {
   "cell_type": "markdown",
   "metadata": {},
   "source": [
    "The following are important psycopg2 module routines:"
   ]
  },
  {
   "cell_type": "markdown",
   "metadata": {},
   "source": [
    "<table border=1 style=\"font-size:15px;\">\n",
    "    <tr>\n",
    "        <td width=200><b>APIs</b></td><td width=800><b>Description</b></td>\n",
    "    </tr>\n",
    "    <tr>\n",
    "        <td>psycopg2.connect()</td><td>This API opens a connection to the PostgreSQL database.</td>\n",
    "    </tr>\n",
    "     <tr>\n",
    "        <td>connection.cursor()</td><td>This routine creates a cursor which will be used throughout of your database programming with Python.</td>\n",
    "    </tr>\n",
    "    <tr>\n",
    "        <td>cursor.execute()</td><td>This routine executes an SQL statement. The SQL statement may be parameterized (i.e., placeholders instead of SQL literals).</td>\n",
    "    </tr>\n",
    "     <tr>\n",
    "        <td>connection.close()</td><td>DescriptionThis method closes the database connection.</td>\n",
    "    </tr>\n",
    "    <tr>\n",
    "        <td>cursor.fetchone()</td><td>This method fetches the next row of a query result set, returning a single sequence, or None when no more data is available.</td>\n",
    "    </tr>\n",
    "     <tr>\n",
    "        <td>cursor.fetchall()</td><td>This routine fetches all (remaining) rows of a query result, returning a list. An empty list is returned when no rows are available.</td>\n",
    "    </tr>\n",
    "    <tr>\n",
    "        <td>psycopg2.connect()</td><td>This API opens a connection to the PostgreSQL database.</td>\n",
    "    </tr>\n",
    "</table>"
   ]
  },
  {
   "cell_type": "markdown",
   "metadata": {},
   "source": [
    "# Connecting to a Database"
   ]
  },
  {
   "cell_type": "code",
   "execution_count": 7,
   "metadata": {},
   "outputs": [
    {
     "name": "stdout",
     "output_type": "stream",
     "text": [
      "Connection to PostgreSQL DB successful\n",
      "PostgreSQL database version: ('PostgreSQL 16.1, compiled by Visual C++ build 1937, 64-bit',)\n"
     ]
    }
   ],
   "source": [
    "import psycopg2\n",
    "\n",
    "# Database connection parameters\n",
    "host = \"localhost\"\n",
    "port = \"5432\"\n",
    "dbname = \"cos101_db\"\n",
    "user = \"postgres\"\n",
    "password = \"cos101\"\n",
    "\n",
    "# Establish the connection\n",
    "try:\n",
    "    connections = psycopg2.connect(\n",
    "        host=host,\n",
    "        port=port,\n",
    "        dbname=dbname,\n",
    "        user=user,\n",
    "        password=password\n",
    "    )\n",
    "    print(\"Connection to PostgreSQL DB successful\")\n",
    "\n",
    "    # Create a cursor object\n",
    "    cursor = connections.cursor()\n",
    "\n",
    "    # Execute a SQL query\n",
    "    cursor.execute(\"SELECT version();\")\n",
    "    \n",
    "    # Fetch and print the result of the query\n",
    "    db_version = cursor.fetchone()\n",
    "    print(f\"PostgreSQL database version: {db_version}\")\n",
    "\n",
    "    # Close the cursor and connection\n",
    "    cursor.close()\n",
    "    connections.close()\n",
    "\n",
    "except Exception as error:\n",
    "    print(f\"Error connecting to PostgreSQL DB: {error}\")\n"
   ]
  },
  {
   "cell_type": "markdown",
   "metadata": {},
   "source": [
    "# Selecting existing Database"
   ]
  },
  {
   "cell_type": "code",
   "execution_count": 9,
   "metadata": {},
   "outputs": [
    {
     "name": "stdout",
     "output_type": "stream",
     "text": [
      "Connection to PostgreSQL DB successful\n",
      "column  |  column2\n",
      "------------------------\n",
      "1       |  Chuka\n",
      "2       |  Ethel\n",
      "3       |  Adenike\n",
      "4       |  Ade\n"
     ]
    }
   ],
   "source": [
    "import psycopg2\n",
    "\n",
    "# Database connection parameters\n",
    "host = \"localhost\"\n",
    "port = \"5432\"\n",
    "dbname = \"cos101_db\"\n",
    "user = \"postgres\"\n",
    "password = \"cos101\"\n",
    "\n",
    "\n",
    "# Establish the connection\n",
    "try:\n",
    "    connection = psycopg2.connect(\n",
    "        host=host,\n",
    "        port=port,\n",
    "        dbname=dbname,\n",
    "        user=user,\n",
    "        password=password\n",
    "    )\n",
    "    print(\"Connection to PostgreSQL DB successful\")\n",
    "\n",
    "    # Create a cursor object\n",
    "    cursor = connection.cursor()\n",
    "\n",
    "    # Define the SQL SELECT query\n",
    "    select_query = \"SELECT  *FROM COMPANY;\"\n",
    "\n",
    "    # Execute the query\n",
    "    cursor.execute(select_query)\n",
    "\n",
    "    # Fetch all rows from the executed query\n",
    "    data = cursor.fetchall()\n",
    "\n",
    "    print(\"column\", \" | \", \"column2\")\n",
    "    print(\"------------------------\")\n",
    "        \n",
    "    # Iterate through the rows and print them\n",
    "    for row in data:\n",
    "        print(f\"{row[0]}       |  {row[1]}\")\n",
    "\n",
    "    # Close the cursor and connection\n",
    "    cursor.close()\n",
    "    connections.close()\n",
    "\n",
    "except Exception as error:\n",
    "    print(f\"Error connecting to PostgreSQL DB: {error}\")\n"
   ]
  },
  {
   "cell_type": "markdown",
   "metadata": {},
   "source": [
    "# Create a new Database"
   ]
  },
  {
   "cell_type": "code",
   "execution_count": 15,
   "metadata": {},
   "outputs": [
    {
     "name": "stdout",
     "output_type": "stream",
     "text": [
      "Connection to PostgreSQL server successful\n",
      "Database 'cos102_db' created successfully\n"
     ]
    }
   ],
   "source": [
    "import psycopg2\n",
    "from psycopg2 import sql\n",
    "# Parameters to connect to the existing PostgreSQL server\n",
    "host = \"localhost\"\n",
    "port = \"5432\"\n",
    "dbname = \"postgres\"\n",
    "user = \"postgres\"\n",
    "password = \"cos101\"\n",
    "\n",
    "# Name of the new database to be created\n",
    "new_dbname = \"cos102_db\"\n",
    "\n",
    "try:\n",
    "    # Connect to the PostgreSQL server\n",
    "    connection = psycopg2.connect(\n",
    "        host=host,\n",
    "        port=port,\n",
    "        dbname=dbname,\n",
    "        user=user,\n",
    "        password=password\n",
    "    )\n",
    "    connection.autocommit = True  # Enable autocommit mode\n",
    "    print(\"Connection to PostgreSQL server successful\")\n",
    "\n",
    "    # Create a cursor object\n",
    "    cursor = connection.cursor()\n",
    "\n",
    "    # Define the SQL statement to create a new database\n",
    "    create_db_query = sql.SQL(\"CREATE DATABASE {}\").format(sql.Identifier(new_dbname))\n",
    "\n",
    "    # Execute the SQL statement\n",
    "    cursor.execute(create_db_query)\n",
    "    print(f\"Database '{new_dbname}' created successfully\")\n",
    "\n",
    "    # Close the cursor and connection\n",
    "    cursor.close()\n",
    "    connection.close()\n",
    "\n",
    "except Exception as error:\n",
    "    print(f\"Error creating the database: {error}\")\n"
   ]
  },
  {
   "cell_type": "markdown",
   "metadata": {},
   "source": [
    "# Create a Table"
   ]
  },
  {
   "cell_type": "code",
   "execution_count": 18,
   "metadata": {},
   "outputs": [
    {
     "name": "stdout",
     "output_type": "stream",
     "text": [
      "Connection to PostgreSQL DB successful\n",
      "Table created successfully\n"
     ]
    }
   ],
   "source": [
    "import psycopg2\n",
    "\n",
    "# Database connection parameters\n",
    "host = \"localhost\"\n",
    "port = \"5432\"\n",
    "dbname = \"cos102_db\"\n",
    "user = \"postgres\"\n",
    "password = \"cos101\"\n",
    "\n",
    "try:\n",
    "    # Connect to the PostgreSQL database\n",
    "    connection = psycopg2.connect(\n",
    "        host=host,\n",
    "        port=port,\n",
    "        dbname=dbname,\n",
    "        user=user,\n",
    "        password=password\n",
    "    )\n",
    "    connection.autocommit = True  # Enable autocommit mode\n",
    "    \n",
    "    print(\"Connection to PostgreSQL DB successful\")\n",
    "\n",
    "    # Create a cursor object\n",
    "    cursor = connection.cursor()\n",
    "\n",
    "    # Define the SQL statement to create a new table\n",
    "    create_table_query = \"\"\"\n",
    "    CREATE TABLE sst_info (\n",
    "        id SERIAL PRIMARY KEY,\n",
    "        name VARCHAR(50) NOT NULL,\n",
    "        age INT NOT NULL,\n",
    "        department VARCHAR NOT NULL,\n",
    "        password VARCHAR NOT NULL\n",
    "    );\n",
    "    \"\"\"\n",
    "\n",
    "    # Execute the SQL statement\n",
    "    cursor.execute(create_table_query)\n",
    "    print(\"Table created successfully\")\n",
    "\n",
    "    # Close the cursor and connection\n",
    "    cursor.close()\n",
    "    connection.close()\n",
    "\n",
    "except Exception as error:\n",
    "    print(f\"Error creating table: {error}\")\n"
   ]
  },
  {
   "cell_type": "markdown",
   "metadata": {},
   "source": [
    "# INSERT into Table"
   ]
  },
  {
   "cell_type": "code",
   "execution_count": 21,
   "metadata": {},
   "outputs": [
    {
     "name": "stdout",
     "output_type": "stream",
     "text": [
      "Connection to PostgreSQL DB successful\n",
      "Data inserted successfully\n"
     ]
    }
   ],
   "source": [
    "import psycopg2\n",
    "\n",
    "# Database connection parameters\n",
    "host = \"localhost\"\n",
    "port = \"5432\"\n",
    "dbname = \"cos102_db\"\n",
    "user = \"postgres\"\n",
    "password = \"cos101\"\n",
    "\n",
    "try:\n",
    "    # Connect to the PostgreSQL database\n",
    "    connection = psycopg2.connect(\n",
    "        host=host,\n",
    "        port=port,\n",
    "        dbname=dbname,\n",
    "        user=user,\n",
    "        password=password\n",
    "    )\n",
    "    connection.autocommit = True  # Enable autocommit mode\n",
    "    print(\"Connection to PostgreSQL DB successful\")\n",
    "\n",
    "    # Create a cursor object\n",
    "    cursor = connection.cursor()\n",
    "\n",
    "    # Define the SQL INSERT statement\n",
    "    insert_query = \"\"\"\n",
    "    INSERT INTO sst_info (id, name, age, department, password)\n",
    "    VALUES (%s, %s, %s, %s,%s);\n",
    "    \"\"\"\n",
    "    \n",
    "    # Data to be inserted\n",
    "    data_to_insert = (1, \"Jamel Ojo\", 20, \"Software Engineering\", \"anthelo4\")\n",
    "\n",
    "    # Execute the SQL statement\n",
    "    cursor.execute(insert_query, data_to_insert)\n",
    "    print(\"Data inserted successfully\")\n",
    "\n",
    "    # Close the cursor and connection\n",
    "    cursor.close()\n",
    "    connection.close()\n",
    "\n",
    "except Exception as error:\n",
    "    print(f\"Error inserting data: {error}\")\n"
   ]
  },
  {
   "cell_type": "markdown",
   "metadata": {},
   "source": [
    "# SELECT from Table"
   ]
  },
  {
   "cell_type": "code",
   "execution_count": 27,
   "metadata": {},
   "outputs": [
    {
     "name": "stdout",
     "output_type": "stream",
     "text": [
      "(1, 'Jamel Ojo', 20, 'Software Engineering', 'anthelo4')\n"
     ]
    }
   ],
   "source": [
    "import psycopg2\n",
    "\n",
    "# Define your database connection parameters\n",
    "db_params = {\n",
    "    'dbname': 'cos102_db',\n",
    "    'user': 'postgres',\n",
    "    'password': 'cos101',\n",
    "    'host': 'localhost',\n",
    "    'port': '5432'  # Default is '5432'\n",
    "}\n",
    "\n",
    "try:\n",
    "    # Establish a connection to the database\n",
    "    connection = psycopg2.connect(**db_params)\n",
    "\n",
    "    # Create a cursor object\n",
    "    cursor = connection.cursor()\n",
    "\n",
    "    # Define the SQL query\n",
    "    select_query = \"SELECT *FROM sst_info WHERE age < 30\"\n",
    "\n",
    "    # Execute the SQL query\n",
    "    cursor.execute(select_query)\n",
    "\n",
    "    # Fetch all the results\n",
    "    result = cursor.fetchall()\n",
    "\n",
    "    # Print the results\n",
    "    for row in result:\n",
    "        print(row)\n",
    "\n",
    "except Exception as error:\n",
    "    print(f\"Error while connecting to PostgreSQL: {error}\")\n",
    "\n",
    "finally:\n",
    "    # Close the cursor and connection to clean up\n",
    "    if cursor:\n",
    "        cursor.close()\n",
    "    if connection:\n",
    "        connection.close()\n"
   ]
  },
  {
   "cell_type": "markdown",
   "metadata": {},
   "source": [
    "# Class Project I"
   ]
  },
  {
   "cell_type": "markdown",
   "metadata": {},
   "source": [
    "Paystack is a Nigerian financial technology company that offers payment processing services to businesses. As a technology company, Paystack solves payment problems for ambitious businesses. Its mission is to help businesses in Africa become profitable, envied, and loved. They make it easy for businesses to accept secure payments from multiple local and global payment channels. They also provide tools to help you retain and acquire new customers. Currently, Paystack is restructuring the team network. It is a diverse, close-knit team on an adventure to build something enduring while learning something new, every day. \n",
    "\n"
   ]
  },
  {
   "cell_type": "markdown",
   "metadata": {},
   "source": [
    "<img src=\"paystack.jpg\">"
   ]
  },
  {
   "cell_type": "markdown",
   "metadata": {},
   "source": [
    "With your knowledge in python programming develop an application that creates the database named <b>Paystack_Team</b>. <br>The purpose of the application is to enable management to perform the following queries:\n",
    "<ul>\n",
    "    <li>Team Members in Revenue Division</li>\n",
    "    <li>Team Members in Growth and Product Division whose age is greater than 30 years but less than 35 years</li>\n",
    "    <li>Team Members in Modules 1,3 and 5</li>\n",
    "    <li>Team Members in Modules 4 and Product Division</li>\n",
    "</ul>"
   ]
  },
  {
   "attachments": {},
   "cell_type": "markdown",
   "metadata": {},
   "source": []
  },
  {
   "cell_type": "code",
   "execution_count": 28,
   "metadata": {},
   "outputs": [
    {
     "name": "stdout",
     "output_type": "stream",
     "text": [
      "Connection to PostgreSQL server successful\n",
      "Database 'paystack_db' created successfully\n"
     ]
    }
   ],
   "source": [
    "import psycopg2\n",
    "from psycopg2 import sql\n",
    "# Parameters to connect to the existing PostgreSQL server\n",
    "host = \"localhost\"\n",
    "port = \"5432\"\n",
    "dbname = \"postgres\"\n",
    "user = \"postgres\"\n",
    "password = \"cos101\"\n",
    "\n",
    "# Name of the new database to be created\n",
    "new_dbname = \"paystack_db\"\n",
    "\n",
    "try:\n",
    "    # Connect to the PostgreSQL server\n",
    "    connection = psycopg2.connect(\n",
    "        host=host,\n",
    "        port=port,\n",
    "        dbname=dbname,\n",
    "        user=user,\n",
    "        password=password\n",
    "    )\n",
    "    connection.autocommit = True  # Enable autocommit mode\n",
    "    print(\"Connection to PostgreSQL server successful\")\n",
    "\n",
    "    # Create a cursor object\n",
    "    cursor = connection.cursor()\n",
    "\n",
    "    # Define the SQL statement to create a new database\n",
    "    create_db_query = sql.SQL(\"CREATE DATABASE {}\").format(sql.Identifier(new_dbname))\n",
    "\n",
    "    # Execute the SQL statement\n",
    "    cursor.execute(create_db_query)\n",
    "    print(f\"Database '{new_dbname}' created successfully\")\n",
    "\n",
    "    # Close the cursor and connection\n",
    "    cursor.close()\n",
    "    connection.close()\n",
    "\n",
    "except Exception as error:\n",
    "    print(f\"Error creating the database: {error}\")\n"
   ]
  },
  {
   "cell_type": "code",
   "execution_count": 3,
   "metadata": {
    "editable": true,
    "slideshow": {
     "slide_type": ""
    },
    "tags": []
   },
   "outputs": [
    {
     "name": "stdout",
     "output_type": "stream",
     "text": [
      "Connection to PostgreSQL DB successful\n",
      "Table created successfully\n"
     ]
    }
   ],
   "source": [
    "import psycopg2\n",
    "\n",
    "# Database connection parameters\n",
    "host = \"localhost\"\n",
    "port = \"5432\"\n",
    "dbname = \"paystack_db\"\n",
    "user = \"postgres\"\n",
    "password = \"cos101\"\n",
    "\n",
    "try:\n",
    "    # Connect to the PostgreSQL database\n",
    "    connection = psycopg2.connect(\n",
    "        host=host,\n",
    "        port=port,\n",
    "        dbname=dbname,\n",
    "        user=user,\n",
    "        password=password\n",
    "    )\n",
    "    connection.autocommit = True  # Enable autocommit mode\n",
    "    \n",
    "    print(\"Connection to PostgreSQL DB successful\")\n",
    "\n",
    "    # Create a cursor object\n",
    "    cursor = connection.cursor()\n",
    "\n",
    "    # Define the SQL statement to create a new table\n",
    "    create_table_query = \"\"\"\n",
    "    CREATE TABLE paystack_info (\n",
    "        id SERIAL PRIMARY KEY,\n",
    "        name VARCHAR(50) NOT NULL,\n",
    "        age INT NOT NULL,\n",
    "        division VARCHAR NOT NULL,\n",
    "        module INT NOT NULL\n",
    "    );\n",
    "    \"\"\"\n",
    "\n",
    "    # Execute the SQL statement\n",
    "    cursor.execute(create_table_query)\n",
    "    print(\"Table created successfully\")\n",
    "\n",
    "    # Close the cursor and connection\n",
    "    cursor.close()\n",
    "    connection.close()\n",
    "\n",
    "except Exception as error:\n",
    "    print(f\"Error creating table: {error}\")\n"
   ]
  },
  {
   "cell_type": "code",
   "execution_count": 4,
   "metadata": {},
   "outputs": [
    {
     "name": "stdout",
     "output_type": "stream",
     "text": [
      "Connection to PostgreSQL DB successful\n",
      "Data inserted successfully\n"
     ]
    }
   ],
   "source": [
    "import psycopg2\n",
    "\n",
    "host = \"localhost\"\n",
    "port = \"5432\"\n",
    "dbname = \"paystack_db\"\n",
    "user = \"postgres\"\n",
    "password = \"cos101\"\n",
    "\n",
    "try:\n",
    "    connection = psycopg2.connect(\n",
    "        host=host,\n",
    "        port=port,\n",
    "        dbname=dbname,\n",
    "        user=user,\n",
    "        password=password\n",
    "    )\n",
    "    connection.autocommit = True\n",
    "    \n",
    "    print(\"Connection to PostgreSQL DB successful\")\n",
    "\n",
    "    cursor = connection.cursor()\n",
    "\n",
    "    insert_data_query = \"\"\"\n",
    "    INSERT INTO paystack_info (name, division, age, module) VALUES \n",
    "    ('Oyinda Aina', 'Business', 32, 1),\n",
    "    ('Wale Eseyin', 'Engineering', 28, 3),\n",
    "    ('Khadijah Abu', 'Product', 30, 2),\n",
    "    ('Onyekachi Mbaike', 'Design', 37, 5),\n",
    "    ('Seike Ibojo', 'Growth', 33, 4),\n",
    "    ('Opemipo Aikomo', 'Design', 28, 1),\n",
    "    ('Ezra Olubi', 'Product', 30, 3),\n",
    "    ('Alexander Fasoro', 'Engineering', 35, 1),\n",
    "    ('Stephen Amaza', 'Growth', 40, 2),\n",
    "    ('Loknan Nanyak', 'Engineering', 44, 5),\n",
    "    ('Ibrahim Lawal', 'Engineering', 39, 4),\n",
    "    ('Fisayo Kolawole', 'Commercial', 27, 5),\n",
    "    ('Emmanuel Quartey', 'Growth', 31, 1),\n",
    "    ('Awatt Bassey', 'Growth', 32, 2),\n",
    "    ('Bolaji Akande', 'Revenue', 30, 3),\n",
    "    ('Mohini Ufeli', 'Growth', 29, 1),\n",
    "    ('King Makanjuola', 'Product', 31, 4),\n",
    "    ('jeoma Opara', 'Revenue', 26, 2),\n",
    "    ('Dipo Omobomi', 'Product', 32, 5),\n",
    "    ('Dapo Awobokun', 'Revenue', 35, 3),\n",
    "    ('Charles Idem', 'Revenue', 38, 1),\n",
    "    ('Ayoba mi Alo', 'Product', 34, 4),\n",
    "    ('Aminat Badara', 'Growth', 30, 2);\n",
    "    \"\"\"\n",
    "\n",
    "    cursor.execute(insert_data_query)\n",
    "    print(\"Data inserted successfully\")\n",
    "\n",
    "    cursor.close()\n",
    "    connection.close()\n",
    "\n",
    "except Exception as error:\n",
    "    print(f\"Error inserting data: {error}\")\n"
   ]
  },
  {
   "cell_type": "code",
   "execution_count": null,
   "metadata": {},
   "outputs": [],
   "source": [
    "import psycopg2\n",
    "import tkinter as tk\n",
    "from tkinter import ttk\n",
    "\n",
    "host = \"localhost\"\n",
    "port = \"5432\"\n",
    "dbname = \"paystack_db\"\n",
    "user = \"postgres\"\n",
    "password = \"cos101\"\n",
    "\n",
    "def perform_query(query):\n",
    "    try:\n",
    "        connection = psycopg2.connect(\n",
    "            host=host,\n",
    "            port=port,\n",
    "            dbname=dbname,\n",
    "            user=user,\n",
    "            password=password\n",
    "        )\n",
    "        connection.autocommit = True\n",
    "        cursor = connection.cursor()\n",
    "        cursor.execute(query)\n",
    "        results = cursor.fetchall()\n",
    "        cursor.close()\n",
    "        connection.close()\n",
    "        return results\n",
    "    except Exception as error:\n",
    "        print(f\"Error performing query: {error}\")\n",
    "        return []\n",
    "\n",
    "def display_results(results):\n",
    "    for i in tree.get_children():\n",
    "        tree.delete(i)\n",
    "    for row in results:\n",
    "        tree.insert(\"\", \"end\", values=row)\n",
    "\n",
    "def query_revenue_division():\n",
    "    query = \"SELECT * FROM paystack_info WHERE division = 'Revenue';\"\n",
    "    results = perform_query(query)\n",
    "    display_results(results)\n",
    "\n",
    "def query_growth_product_age():\n",
    "    query = \"\"\"\n",
    "    SELECT * FROM paystack_info \n",
    "    WHERE (division = 'Growth' OR division = 'Product') \n",
    "    AND age > 30 AND age < 35;\n",
    "    \"\"\"\n",
    "    results = perform_query(query)\n",
    "    display_results(results)\n",
    "\n",
    "def query_modules_135():\n",
    "    query = \"SELECT * FROM paystack_info WHERE module IN (1, 3, 5);\"\n",
    "    results = perform_query(query)\n",
    "    display_results(results)\n",
    "\n",
    "def query_module4_product():\n",
    "    query = \"SELECT * FROM paystack_info WHERE module = 4 AND division = 'Product';\"\n",
    "    results = perform_query(query)\n",
    "    display_results(results)\n",
    "\n",
    "root = tk.Tk()\n",
    "root.title(\"Paystack Info Queries\")\n",
    "\n",
    "frame = tk.Frame(root)\n",
    "frame.pack(pady=20)\n",
    "\n",
    "button1 = tk.Button(frame, text=\"Revenue Division\", command=query_revenue_division)\n",
    "button1.grid(row=0, column=0, padx=10)\n",
    "\n",
    "button2 = tk.Button(frame, text=\"Growth and Product Division (Age 31-34)\", command=query_growth_product_age)\n",
    "button2.grid(row=0, column=1, padx=10)\n",
    "\n",
    "button3 = tk.Button(frame, text=\"Modules 1, 3, 5\", command=query_modules_135)\n",
    "button3.grid(row=0, column=2, padx=10)\n",
    "\n",
    "button4 = tk.Button(frame, text=\"Module 4 and Product Division\", command=query_module4_product)\n",
    "button4.grid(row=0, column=3, padx=10)\n",
    "\n",
    "columns = (\"id\", \"name\", \"age\", \"division\", \"module\")\n",
    "tree = ttk.Treeview(root, columns=columns, show=\"headings\")\n",
    "tree.heading(\"id\", text=\"ID\")\n",
    "tree.heading(\"name\", text=\"Name\")\n",
    "tree.heading(\"age\", text=\"Age\")\n",
    "tree.heading(\"division\", text=\"Division\")\n",
    "tree.heading(\"module\", text=\"Module\")\n",
    "tree.pack(pady=20)\n",
    "\n",
    "root.mainloop()\n"
   ]
  },
  {
   "cell_type": "code",
   "execution_count": null,
   "metadata": {},
   "outputs": [],
   "source": []
  }
 ],
 "metadata": {
  "kernelspec": {
   "display_name": "Python 3 (ipykernel)",
   "language": "python",
   "name": "python3"
  },
  "language_info": {
   "codemirror_mode": {
    "name": "ipython",
    "version": 3
   },
   "file_extension": ".py",
   "mimetype": "text/x-python",
   "name": "python",
   "nbconvert_exporter": "python",
   "pygments_lexer": "ipython3",
   "version": "3.11.7"
  }
 },
 "nbformat": 4,
 "nbformat_minor": 4
}
